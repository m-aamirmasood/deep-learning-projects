{
 "cells": [
  {
   "cell_type": "code",
   "execution_count": 276,
   "metadata": {},
   "outputs": [],
   "source": [
    "import numpy as np\n",
    "import pandas as pd\n",
    "\n",
    "import matplotlib.pyplot as plt\n",
    "import seaborn as sns\n",
    "%matplotlib inline\n",
    "\n",
    "import random\n",
    "from sklearn.tree import DecisionTreeClassifier\n",
    "from pprint import pprint"
   ]
  },
  {
   "cell_type": "code",
   "execution_count": 140,
   "metadata": {},
   "outputs": [],
   "source": [
    "def train_test_split(df, test_size):\n",
    "    \n",
    "    if isinstance(test_size, float):\n",
    "        test_size = round(test_size * len(df))\n",
    "\n",
    "    indices = df.index.tolist()\n",
    "    test_indices = random.sample(population=indices, k=test_size)\n",
    "\n",
    "    test_df = df.loc[test_indices]\n",
    "    train_df = df.drop(test_indices)\n",
    "    \n",
    "    return train_df, test_df"
   ]
  },
  {
   "cell_type": "code",
   "execution_count": 141,
   "metadata": {},
   "outputs": [],
   "source": [
    "def check_purity(data):\n",
    "    \n",
    "    label_column = data[:, -1]\n",
    "    unique_classes = np.unique(label_column)\n",
    "\n",
    "    if len(unique_classes) == 1:\n",
    "        return True\n",
    "    else:\n",
    "        return False"
   ]
  },
  {
   "cell_type": "code",
   "execution_count": null,
   "metadata": {},
   "outputs": [],
   "source": [
    "def cross_validation_split(dataset, folds=3):\n",
    "    dataset_split = list()\n",
    "    dataset_copy = list(dataset)\n",
    "    fold_size = int(len(dataset) / folds)\n",
    "    for i in range(folds):\n",
    "        fold = list()\n",
    "        while len(fold) < fold_size:\n",
    "            index = randrange(len(dataset_copy))\n",
    "            fold.append(dataset_copy.pop(index))\n",
    "        dataset_split.append(fold)\n",
    "    return dataset_split"
   ]
  },
  {
   "cell_type": "code",
   "execution_count": 142,
   "metadata": {},
   "outputs": [],
   "source": [
    "def classify_data(data):\n",
    "    \n",
    "    label_column = data[:, -1]\n",
    "    unique_classes, counts_unique_classes = np.unique(label_column, return_counts=True)\n",
    "\n",
    "    index = counts_unique_classes.argmax()\n",
    "    classification = unique_classes[index]\n",
    "    \n",
    "    return classification"
   ]
  },
  {
   "cell_type": "code",
   "execution_count": 143,
   "metadata": {},
   "outputs": [],
   "source": [
    "def get_potential_splits(data):\n",
    "    \n",
    "    potential_splits = {}\n",
    "    _, n_columns = data.shape\n",
    "    for column_index in range(n_columns - 1): \n",
    "        values = data[:, column_index]\n",
    "        unique_values = np.unique(values)\n",
    "        \n",
    "        type_of_feature = FEATURE_TYPES[column_index]\n",
    "        if type_of_feature == \"continuous\":\n",
    "            potential_splits[column_index] = []\n",
    "            for index in range(len(unique_values)):\n",
    "                if index != 0:\n",
    "                    current_value = unique_values[index]\n",
    "                    previous_value = unique_values[index - 1]\n",
    "                    potential_split = (current_value + previous_value) / 2\n",
    "\n",
    "                    potential_splits[column_index].append(potential_split)\n",
    "                \n",
    "        else:\n",
    "            potential_splits[column_index] = unique_values\n",
    "    \n",
    "    return potential_splits"
   ]
  },
  {
   "cell_type": "code",
   "execution_count": 144,
   "metadata": {},
   "outputs": [],
   "source": [
    "def split_data(data, split_column, split_value):\n",
    "    \n",
    "    split_column_values = data[:, split_column]\n",
    "\n",
    "    type_of_feature = FEATURE_TYPES[split_column]\n",
    "    if type_of_feature == \"continuous\":\n",
    "        data_below = data[split_column_values <= split_value]\n",
    "        data_above = data[split_column_values >  split_value]\n",
    "    \n",
    "    # feature is categorical   \n",
    "    else:\n",
    "        data_below = data[split_column_values == split_value]\n",
    "        data_above = data[split_column_values != split_value]\n",
    "    \n",
    "    return data_below, data_above"
   ]
  },
  {
   "cell_type": "code",
   "execution_count": 145,
   "metadata": {},
   "outputs": [],
   "source": [
    "def calculate_entropy(data):\n",
    "    \n",
    "    label_column = data[:, -1]\n",
    "    _, counts = np.unique(label_column, return_counts=True)\n",
    "\n",
    "    probabilities = counts / counts.sum()\n",
    "    entropy = sum(probabilities * -np.log2(probabilities))\n",
    "     \n",
    "    return entropy"
   ]
  },
  {
   "cell_type": "code",
   "execution_count": 146,
   "metadata": {},
   "outputs": [],
   "source": [
    "def calculate_overall_entropy(data_below, data_above):\n",
    "    \n",
    "    n = len(data_below) + len(data_above)\n",
    "    p_data_below = len(data_below) / n\n",
    "    p_data_above = len(data_above) / n\n",
    "\n",
    "    overall_entropy =  (p_data_below * calculate_entropy(data_below) \n",
    "                      + p_data_above * calculate_entropy(data_above))\n",
    "    \n",
    "    return overall_entropy"
   ]
  },
  {
   "cell_type": "code",
   "execution_count": 147,
   "metadata": {},
   "outputs": [],
   "source": [
    "def determine_best_split(data, potential_splits):\n",
    "    \n",
    "    overall_entropy = 9999\n",
    "    for column_index in potential_splits:\n",
    "        for value in potential_splits[column_index]:\n",
    "            data_below, data_above = split_data(data, split_column=column_index, split_value=value)\n",
    "            current_overall_entropy = calculate_overall_entropy(data_below, data_above)\n",
    "\n",
    "            if current_overall_entropy <= overall_entropy:\n",
    "                overall_entropy = current_overall_entropy\n",
    "                best_split_column = column_index\n",
    "                best_split_value = value\n",
    "    \n",
    "    return best_split_column, best_split_value"
   ]
  },
  {
   "cell_type": "code",
   "execution_count": 148,
   "metadata": {},
   "outputs": [],
   "source": [
    "def determine_type_of_feature(df):\n",
    "    \n",
    "    feature_types = []\n",
    "    n_unique_values_treshold = 15\n",
    "    for feature in df.columns:\n",
    "        if feature != \"label\":\n",
    "            unique_values = df[feature].unique()\n",
    "            example_value = unique_values[0]\n",
    "\n",
    "            if (isinstance(example_value, str)) or (len(unique_values) <= n_unique_values_treshold):\n",
    "                feature_types.append(\"categorical\")\n",
    "            else:\n",
    "                feature_types.append(\"continuous\")\n",
    "    \n",
    "    return feature_types"
   ]
  },
  {
   "cell_type": "code",
   "execution_count": 149,
   "metadata": {},
   "outputs": [],
   "source": [
    "def decision_tree_algorithm(df, counter=0, min_samples=2, max_depth=10):\n",
    "    \n",
    "    if counter == 0:\n",
    "        global COLUMN_HEADERS, FEATURE_TYPES\n",
    "        COLUMN_HEADERS = df.columns\n",
    "        FEATURE_TYPES = determine_type_of_feature(df)\n",
    "        data = df.values\n",
    "    else:\n",
    "        data = df           \n",
    "    \n",
    "    if (check_purity(data)) or (len(data) < min_samples) or (counter == max_depth):\n",
    "        classification = classify_data(data)\n",
    "        \n",
    "        return classification\n",
    "\n",
    "    \n",
    "    else:    \n",
    "        counter += 1\n",
    "\n",
    "        potential_splits = get_potential_splits(data)\n",
    "        split_column, split_value = determine_best_split(data, potential_splits)\n",
    "        data_below, data_above = split_data(data, split_column, split_value)\n",
    "        \n",
    "        feature_name = COLUMN_HEADERS[split_column]\n",
    "        type_of_feature = FEATURE_TYPES[split_column]\n",
    "        if type_of_feature == \"continuous\":\n",
    "            question = \"{} <= {}\".format(feature_name, split_value)\n",
    "            \n",
    "        else:\n",
    "            question = \"{} = {}\".format(feature_name, split_value)\n",
    "        \n",
    "        sub_tree = {question: []}\n",
    "        \n",
    "        yes_answer = decision_tree_algorithm(data_below, counter, min_samples, max_depth)\n",
    "        no_answer = decision_tree_algorithm(data_above, counter, min_samples, max_depth)\n",
    "        \n",
    "        if yes_answer == no_answer:\n",
    "            sub_tree = yes_answer\n",
    "        else:\n",
    "            sub_tree[question].append(yes_answer)\n",
    "            sub_tree[question].append(no_answer)\n",
    "        \n",
    "        return sub_tree"
   ]
  },
  {
   "cell_type": "code",
   "execution_count": 150,
   "metadata": {},
   "outputs": [],
   "source": [
    "def classify_example(example, tree):\n",
    "    question = list(tree.keys())[0]\n",
    "    feature_name, comparison_operator, value = question.split(\" \")\n",
    "    \n",
    "    # ask question\n",
    "    if comparison_operator == \"<=\":\n",
    "        if example[feature_name] <= float(value):\n",
    "            answer = tree[question][0]\n",
    "        else:\n",
    "            answer = tree[question][1]\n",
    "    \n",
    "    # feature is categorical\n",
    "    else:\n",
    "        if str(example[feature_name]) == value:\n",
    "            answer = tree[question][0]\n",
    "        else:\n",
    "            answer = tree[question][1]\n",
    "\n",
    "    # base case\n",
    "    if not isinstance(answer, dict):\n",
    "        return answer\n",
    "    \n",
    "    # recursive part\n",
    "    else:\n",
    "        residual_tree = answer\n",
    "        return classify_example(example, residual_tree)"
   ]
  },
  {
   "cell_type": "code",
   "execution_count": 151,
   "metadata": {},
   "outputs": [],
   "source": [
    "def calculate_performance(df, tree):\n",
    "\n",
    "    df[\"classification\"] = df.apply(classify_example, args=(tree,), axis=1)\n",
    "    df[\"classification_correct\"] = df[\"classification\"] == df[\"label\"]\n",
    "    tn=0\n",
    "    tp=0\n",
    "    fp=0\n",
    "    fn=0\n",
    "    for i in range(len(df[\"label\"])):\n",
    "        if df[\"label\"][i]== 1 and df[\"classification\"][i]==1:\n",
    "            tp+=1\n",
    "        elif df[\"label\"][i]== 1 and df[\"classification\"][i]==0:\n",
    "            fn+=1\n",
    "        elif df[\"label\"][i]== 0 and df[\"classification\"][i]==1:\n",
    "            fp+=1\n",
    "        elif df[\"label\"][i]== 1 and df[\"classification\"][i]==0:\n",
    "            tn+=1\n",
    " \n",
    "    accuracy = (tp+tn)/(tp+tn+fp+fn)\n",
    "    precision= (tp)/(tp+fp)\n",
    "    recall= (tp)/(tp+fn)\n",
    "    f1= (2*tp)/((2*tp)+fp+fn)\n",
    "    return accuracy,precision,recall,f1"
   ]
  },
  {
   "cell_type": "code",
   "execution_count": 152,
   "metadata": {},
   "outputs": [],
   "source": [
    "df = pd.read_csv(\"project3_dataset1.csv\")"
   ]
  },
  {
   "cell_type": "code",
   "execution_count": 153,
   "metadata": {},
   "outputs": [
    {
     "name": "stdout",
     "output_type": "stream",
     "text": [
      "{'f_23 <= 105.95': [{'f_28 <= 0.13505': [0.0,\n",
      "                                         {'f_22 <= 27.575': [0.0,\n",
      "                                                             1.0]}]},\n",
      "                    {'f_23 <= 117.45': [{'f_25 <= 0.1361': [0.0,\n",
      "                                                            1.0]},\n",
      "                                        {'f_28 <= 0.085865': [0.0,\n",
      "                                                              1.0]}]}]}\n",
      "accuracy:  0.9154929577464789\n",
      "precision:  0.9948979591836735\n",
      "recall:  0.9198113207547169\n",
      "f1:  0.9558823529411765\n"
     ]
    }
   ],
   "source": [
    "tree = decision_tree_algorithm(df, max_depth=3)\n",
    "accuracy,precision,recall,f1 = calculate_performance(df, tree)\n",
    "\n",
    "pprint(tree, width=50)\n",
    "print(\"accuracy: \",accuracy)\n",
    "print(\"precision: \",precision)\n",
    "print(\"recall: \",recall)\n",
    "print(\"f1: \",f1)"
   ]
  },
  {
   "cell_type": "code",
   "execution_count": 291,
   "metadata": {},
   "outputs": [],
   "source": [
    "df = pd.read_csv(\"project3_dataset2.csv\")"
   ]
  },
  {
   "cell_type": "code",
   "execution_count": 292,
   "metadata": {},
   "outputs": [
    {
     "name": "stdout",
     "output_type": "stream",
     "text": [
      "{'f9 <= 31.5': [{'f8 <= 11.105': [{'f7 <= 18.48': [{'f7 <= 18.175': [0,\n",
      "                                                                     1]},\n",
      "                                                   0]},\n",
      "                                  {'f2 <= 0.51': [0,\n",
      "                                                  {'f7 <= 25.59': [{'f3 <= 4.265000000000001': [0,\n",
      "                                                                                                1]},\n",
      "                                                                   {'f9 <= 26.5': [1,\n",
      "                                                                                   0]}]}]}]},\n",
      "                {'f9 <= 50.5': [{'f6 <= 68.5': [{'f7 <= 19.83': [1,\n",
      "                                                                 {'f4 <= 39.495000000000005': [0,\n",
      "                                                                                               1]}]},\n",
      "                                                {'f7 <= 23.990000000000002': [0,\n",
      "                                                                              {'f1 <= 191.0': [1,\n",
      "                                                                                               0]}]}]},\n",
      "                                {'f5 = Present': [{'f3 <= 6.705': [{'f2 <= 4.15': [0,\n",
      "                                                                                   1]},\n",
      "                                                                   {'f6 <= 34.0': [0,\n",
      "                                                                                   1]}]},\n",
      "                                                  {'f2 <= 7.605': [0,\n",
      "                                                                   1]}]}]}]}\n",
      "accuracy:  0.4742857142857143\n",
      "precision:  0.8469387755102041\n",
      "recall:  0.51875\n",
      "f1:  0.6434108527131783\n"
     ]
    }
   ],
   "source": [
    "#random.seed(0)\n",
    "#train_df, test_df = train_test_split(df, 0.2)\n",
    "tree = decision_tree_algorithm(df, max_depth=5)\n",
    "accuracy,precision,recall,f1 = calculate_performance(df, tree)\n",
    "\n",
    "pprint(tree, width=50)\n",
    "print(\"accuracy: \",accuracy)\n",
    "print(\"precision: \",precision)\n",
    "print(\"recall: \",recall)\n",
    "print(\"f1: \",f1)"
   ]
  },
  {
   "cell_type": "code",
   "execution_count": 156,
   "metadata": {},
   "outputs": [],
   "source": [
    "df = pd.read_csv(\"project3_dataset4.csv\")"
   ]
  },
  {
   "cell_type": "code",
   "execution_count": 157,
   "metadata": {},
   "outputs": [
    {
     "name": "stdout",
     "output_type": "stream",
     "text": [
      "{'f_1 = overcast': [1,\n",
      "                    {'f_3 = normal': [{'f_4 = weak': [1,\n",
      "                                                      {'f_2 = mild': [1,\n",
      "                                                                      0]}]},\n",
      "                                      {'f_1 = sunny': [0,\n",
      "                                                       {'f_4 = weak': [1,\n",
      "                                                                       0]}]}]}]}\n",
      "accuracy:  1.0\n",
      "precision:  1.0\n",
      "recall:  1.0\n",
      "f1:  1.0\n"
     ]
    }
   ],
   "source": [
    "#random.seed(0)\n",
    "#train_df, test_df = train_test_split(df, 0.2)\n",
    "tree = decision_tree_algorithm(df, max_depth=5)\n",
    "accuracy,precision,recall,f1 = calculate_performance(df, tree)\n",
    "\n",
    "pprint(tree, width=50)\n",
    "print(\"accuracy: \",accuracy)\n",
    "print(\"precision: \",precision)\n",
    "print(\"recall: \",recall)\n",
    "print(\"f1: \",f1)"
   ]
  },
  {
   "cell_type": "code",
   "execution_count": 228,
   "metadata": {},
   "outputs": [],
   "source": [
    "def rf_calculate_performance(df, rf):\n",
    "    tn=0\n",
    "    tp=0\n",
    "    fp=0\n",
    "    fn=0\n",
    "    for i in df[\"label\"]:\n",
    "        \n",
    "        if df[\"label\"][i]== 1 and rf[i]==1:\n",
    "            tp+=1\n",
    "        elif df[\"label\"][i]== 1 and rf[i]==0:\n",
    "            fn+=1\n",
    "        elif df[\"label\"][i]== 0 and rf[i]==1:\n",
    "            fp+=1\n",
    "        elif df[\"label\"][i]== 1 and rf[i]==0:\n",
    "            tn+=1\n",
    "    \n",
    "    accuracy = (tp+tn)/(tp+tn+fp+fn)\n",
    "    precision= (tp)/(tp+fp)\n",
    "    recall= (tp)/(tp+fn)\n",
    "    f1= (2*tp)/((2*tp)+fp+fn)\n",
    "    return accuracy,precision,recall,f1"
   ]
  },
  {
   "cell_type": "code",
   "execution_count": 229,
   "metadata": {},
   "outputs": [],
   "source": [
    "def rf_algorithm(df, n_trees):\n",
    "    count_z=0\n",
    "    count_o=0\n",
    "    l= df[\"label\"]\n",
    "    df = df.iloc[:, :-1]\n",
    "    n_samples = int(len(df))\n",
    "    n_features = int(len(df.columns))\n",
    "    df= df.sample(n_features, axis=1)\n",
    "    results= np.zeros((n_samples,n_trees))\n",
    "    final= np.zeros((n_samples,1))\n",
    "    trees=[]\n",
    "    for i in range(0,n_trees):\n",
    "        df=df.iloc[np.random.randint(0, len(df), size=n_samples)]\n",
    "        df[\"label\"]=l\n",
    "        tree = decision_tree_algorithm(df, max_depth=3)\n",
    "        results[:,i]= df.apply(classify_example, args=(tree,), axis=1)\n",
    "    \n",
    "    for i in range(0,n_samples):\n",
    "        for j in range(0,n_trees):\n",
    "            if int(results[i][j])==0:\n",
    "                count_z+=1\n",
    "            else:\n",
    "                count_o+=1\n",
    "        if count_z>=count_o:\n",
    "            final[i]= 0\n",
    "        else:\n",
    "            final[i]= 1\n",
    "        count_z=0\n",
    "        count_o=0\n",
    "        \n",
    "    return final"
   ]
  },
  {
   "cell_type": "code",
   "execution_count": 230,
   "metadata": {},
   "outputs": [
    {
     "name": "stdout",
     "output_type": "stream",
     "text": [
      "accuracy:  0.37258347978910367\n",
      "precision:  1.0\n",
      "recall:  0.37258347978910367\n",
      "f1:  0.5428937259923176\n"
     ]
    }
   ],
   "source": [
    "df = pd.read_csv(\"project3_dataset1.csv\")\n",
    "rf = rf_algorithm(df,3)\n",
    "accuracy,precision,recall,f1 = rf_calculate_performance(df, rf)\n",
    "print(\"accuracy: \",accuracy)\n",
    "print(\"precision: \",precision)\n",
    "print(\"recall: \",recall)\n",
    "print(\"f1: \",f1)"
   ]
  },
  {
   "cell_type": "code",
   "execution_count": 285,
   "metadata": {},
   "outputs": [],
   "source": [
    "df = pd.read_csv(\"project3_dataset1.csv\")\n",
    "train_df, test_df = train_test_split(df, 0.2)"
   ]
  },
  {
   "cell_type": "code",
   "execution_count": 290,
   "metadata": {},
   "outputs": [
    {
     "data": {
      "image/png": "[encoded data removed]",
      "text/plain": [
       "<Figure size 576x432 with 1 Axes>"
      ]
     },
     "metadata": {},
     "output_type": "display_data"
    }
   ],
   "source": [
    "def get_error_rate(pred, Y):\n",
    "    return sum(pred != Y) / float(len(Y))\n",
    "\n",
    "\n",
    "def generic_clf(Y_train, X_train, Y_test, X_test, clf):\n",
    "    clf.fit(X_train,Y_train)\n",
    "    pred_train = clf.predict(X_train)\n",
    "    pred_test = clf.predict(X_test)\n",
    "    return get_error_rate(pred_train, Y_train), \\\n",
    "           get_error_rate(pred_test, Y_test)\n",
    "\n",
    "def adaboost_clf(Y_train, X_train, Y_test, X_test, M, clf):\n",
    "    n_train, n_test = len(X_train), len(X_test)\n",
    "    w = np.ones(n_train) / n_train\n",
    "    pred_train, pred_test = [np.zeros(n_train), np.zeros(n_test)]\n",
    "    \n",
    "    for i in range(M):\n",
    "        clf.fit(X_train, Y_train, sample_weight = w)\n",
    "        pred_train_i = clf.predict(X_train)\n",
    "        pred_test_i = clf.predict(X_test)\n",
    "        miss = [int(x) for x in (pred_train_i != Y_train)]\n",
    "        miss2 = [x if x==1 else -1 for x in miss]\n",
    "        err_m = np.dot(w,miss) / sum(w)\n",
    "        alpha_m = 0.5 * np.log( (1 - err_m) / float(err_m))\n",
    "        w = np.multiply(w, np.exp([float(x) * alpha_m for x in miss2]))\n",
    "        pred_train = [sum(x) for x in zip(pred_train, \n",
    "                                          [x * alpha_m for x in pred_train_i])]\n",
    "        pred_test = [sum(x) for x in zip(pred_test, \n",
    "                                         [x * alpha_m for x in pred_test_i])]\n",
    "    \n",
    "    pred_train, pred_test = np.sign(pred_train), np.sign(pred_test)\n",
    "    \n",
    "    return get_error_rate(pred_train, Y_train), \\\n",
    "           get_error_rate(pred_test, Y_test)\n",
    "\n",
    "def plot_error_rate(er_train, er_test):\n",
    "    df_error = pd.DataFrame([er_train, er_test]).T\n",
    "    df_error.columns = ['Training', 'Test']\n",
    "    plot1 = df_error.plot(linewidth = 3, figsize = (8,6),\n",
    "            color = ['lightblue', 'darkblue'], grid = True)\n",
    "    plot1.set_xlabel('Number of iterations', fontsize = 12)\n",
    "    plot1.set_xticklabels(range(0,450,50))\n",
    "    plot1.set_ylabel('Error rate', fontsize = 12)\n",
    "    plot1.set_title('Error rate vs number of iterations', fontsize = 16)\n",
    "    plt.axhline(y=er_test[0], linewidth=1, color = 'red', ls = 'dashed')\n",
    "\n",
    "rounds=3\n",
    "X_train= train_df.iloc[:, :-1]\n",
    "Y_train= train_df[\"label\"]\n",
    "X_test= test_df.iloc[:, :-1]\n",
    "Y_test= test_df[\"label\"]\n",
    "clf_tree = DecisionTreeClassifier(max_depth = 1, random_state = 1)\n",
    "er_tree = generic_clf(Y_train, X_train, Y_test, X_test, clf_tree)\n",
    "er_train, er_test = [er_tree[0]], [er_tree[1]]\n",
    "for i in range(rounds):    \n",
    "        er_i = adaboost_clf(Y_train, X_train, Y_test, X_test, i, clf_tree)\n",
    "        er_train.append(er_i[0])\n",
    "        er_test.append(er_i[1])\n",
    "plot_error_rate(er_train, er_test)"
   ]
  },
  {
   "cell_type": "code",
   "execution_count": null,
   "metadata": {},
   "outputs": [],
   "source": []
  },
  {
   "cell_type": "code",
   "execution_count": null,
   "metadata": {},
   "outputs": [],
   "source": []
  }
 ],
 "metadata": {
  "kernelspec": {
   "display_name": "Python 3",
   "language": "python",
   "name": "python3"
  },
  "language_info": {
   "codemirror_mode": {
    "name": "ipython",
    "version": 3
   },
   "file_extension": ".py",
   "mimetype": "text/x-python",
   "name": "python",
   "nbconvert_exporter": "python",
   "pygments_lexer": "ipython3",
   "version": "3.6.5"
  }
 },
 "nbformat": 4,
 "nbformat_minor": 2
}
