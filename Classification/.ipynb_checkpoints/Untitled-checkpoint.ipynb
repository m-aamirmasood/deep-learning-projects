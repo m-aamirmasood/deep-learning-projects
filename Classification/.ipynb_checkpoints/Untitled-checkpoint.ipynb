{
 "cells": [
  {
   "cell_type": "code",
   "execution_count": null,
   "metadata": {},
   "outputs": [],
   "source": [
    "import numpy as np\n",
    "from sklearn.svm import SVC\n",
    "from sklearn.ensemble import RandomForestClassifier\n",
    "from sklearn.datasets import fetch_mldata\n",
    "\n",
    "def compute_confusion_matrix(true, pred):\n",
    "    prob,prede = getProbsAndPreds(pred)\n",
    "    K = len(np.unique(true)) # Number of classes \n",
    "    result = np.zeros((K, K))\n",
    "    for i in range(len(true)):\n",
    "        result[true[i]][prede[i]] += 1\n",
    "    return result"
   ]
  },
  {
   "cell_type": "code",
   "execution_count": null,
   "metadata": {},
   "outputs": [],
   "source": [
    "USPSMat  = []\n",
    "USPSTar  = []\n",
    "curPath  = 'USPSdata/Numerals'\n",
    "savedImg = []\n",
    "\n",
    "for j in range(0,10):\n",
    "    curFolderPath = curPath + '/' + str(j)\n",
    "    imgs =  os.listdir(curFolderPath)\n",
    "    for img in imgs:\n",
    "        curImg = curFolderPath + '/' + img\n",
    "        if curImg[-3:] == 'png':\n",
    "            img = Image.open(curImg,'r')\n",
    "            img = img.resize((28, 28))\n",
    "            savedImg = img\n",
    "            imgdata = (255-np.array(img.getdata()))/255\n",
    "            USPSMat.append(imgdata)\n",
    "            USPSTar.append(j)\n",
    "USPSTar= np.asarray(USPSTar)\n",
    "USPSMat= np.asarray(USPSMat)            \n",
    "print(USPSMat.shape)\n",
    "print(USPSTar.shape)"
   ]
  },
  {
   "cell_type": "code",
   "execution_count": null,
   "metadata": {},
   "outputs": [
    {
     "name": "stderr",
     "output_type": "stream",
     "text": [
      "/Users/macbookpro/Documents/anaconda/anaconda3/envs/tensorflow/lib/python3.6/site-packages/sklearn/ensemble/weight_boosting.py:29: DeprecationWarning: numpy.core.umath_tests is an internal NumPy module and should not be imported. It will be removed in a future NumPy release.\n",
      "  from numpy.core.umath_tests import inner1d\n"
     ]
    }
   ],
   "source": [
    "mnist = fetch_mldata('MNIST original')\n",
    "n_train = 60000\n",
    "n_test = 10000\n",
    "indices = np.arange(len(mnist.data))\n",
    "train_idx = np.arange(0,n_train)\n",
    "test_idx = np.arange(n_train+1,n_train+n_test)\n",
    "X_train, y_train = mnist.data[train_idx], mnist.target[train_idx]\n",
    "X_test, y_test = mnist.data[test_idx], mnist.target[test_idx]\n",
    "# SVM\n",
    "classifier1 = SVC(kernel='rbf', C=2, gamma = 0.05);\n",
    "classifier1.fit(X_train, y_train)\n",
    "classifier1.score(X_train,y_train)\n",
    "#RandomForestClassifier\n",
    "classifier2 = RandomForestClassifier(n_estimator=10);\n",
    "classifier2.fit(X_train, y_train)\n",
    "classifier2.score(X_train,y_train)"
   ]
  },
  {
   "cell_type": "code",
   "execution_count": null,
   "metadata": {},
   "outputs": [],
   "source": []
  }
 ],
 "metadata": {
  "kernelspec": {
   "display_name": "Python 3",
   "language": "python",
   "name": "python3"
  },
  "language_info": {
   "codemirror_mode": {
    "name": "ipython",
    "version": 3
   },
   "file_extension": ".py",
   "mimetype": "text/x-python",
   "name": "python",
   "nbconvert_exporter": "python",
   "pygments_lexer": "ipython3",
   "version": "3.6.6"
  }
 },
 "nbformat": 4,
 "nbformat_minor": 2
}
